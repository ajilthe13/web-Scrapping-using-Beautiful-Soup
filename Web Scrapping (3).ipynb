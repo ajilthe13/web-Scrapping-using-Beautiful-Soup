{
 "cells": [
  {
   "cell_type": "markdown",
   "id": "74bfd8dd",
   "metadata": {},
   "source": [
    "### Importing Required Libraries"
   ]
  },
  {
   "cell_type": "code",
   "execution_count": 1,
   "id": "6be97c92",
   "metadata": {},
   "outputs": [],
   "source": [
    "from bs4 import BeautifulSoup\n",
    "import requests\n",
    "import pandas as pd\n",
    "import urllib.parse"
   ]
  },
  {
   "cell_type": "markdown",
   "id": "5b79172a",
   "metadata": {},
   "source": [
    "### HTTP Request"
   ]
  },
  {
   "cell_type": "markdown",
   "id": "bc938097",
   "metadata": {},
   "source": [
    "#### Store Website in Variable"
   ]
  },
  {
   "cell_type": "code",
   "execution_count": 2,
   "id": "a5047ce0",
   "metadata": {},
   "outputs": [],
   "source": [
    "website = \"https://www.reliancedigital.in/smart-phones/c/S101711?searchQuery=Samsung\""
   ]
  },
  {
   "cell_type": "markdown",
   "id": "7f50ca90",
   "metadata": {},
   "source": [
    "### Get Request"
   ]
  },
  {
   "cell_type": "code",
   "execution_count": 3,
   "id": "b26173b0",
   "metadata": {},
   "outputs": [],
   "source": [
    "response = requests.get(website)"
   ]
  },
  {
   "cell_type": "code",
   "execution_count": 4,
   "id": "b2456b4d",
   "metadata": {},
   "outputs": [
    {
     "data": {
      "text/plain": [
       "200"
      ]
     },
     "execution_count": 4,
     "metadata": {},
     "output_type": "execute_result"
    }
   ],
   "source": [
    "response.status_code"
   ]
  },
  {
   "cell_type": "markdown",
   "id": "2af4ba1a",
   "metadata": {},
   "source": [
    "The HTTP Request was successfull"
   ]
  },
  {
   "cell_type": "markdown",
   "id": "02774548",
   "metadata": {},
   "source": [
    "### Soup Object"
   ]
  },
  {
   "cell_type": "code",
   "execution_count": 5,
   "id": "636438b9",
   "metadata": {},
   "outputs": [],
   "source": [
    "soup = BeautifulSoup(response.content, 'html.parser')"
   ]
  },
  {
   "cell_type": "markdown",
   "id": "1c4fe2f8",
   "metadata": {},
   "source": [
    "Now we have all HTML elements"
   ]
  },
  {
   "cell_type": "markdown",
   "id": "5298ed84",
   "metadata": {},
   "source": [
    "### Results"
   ]
  },
  {
   "cell_type": "code",
   "execution_count": 7,
   "id": "73373d1d",
   "metadata": {},
   "outputs": [],
   "source": [
    "result = soup.find_all('li',{'class': 'grid pl__container__sp blk__lg__3 blk__md__4 blk__sm__6 blk__xs__6'})"
   ]
  },
  {
   "cell_type": "code",
   "execution_count": 8,
   "id": "c8bc8ef5",
   "metadata": {},
   "outputs": [
    {
     "data": {
      "text/plain": [
       "24"
      ]
     },
     "execution_count": 8,
     "metadata": {},
     "output_type": "execute_result"
    }
   ],
   "source": [
    "len(result)"
   ]
  },
  {
   "cell_type": "markdown",
   "id": "2369bb93",
   "metadata": {},
   "source": [
    "### Targeting Necessary Data"
   ]
  },
  {
   "cell_type": "markdown",
   "id": "a6b6fdcf",
   "metadata": {},
   "source": [
    "### Mobile Name"
   ]
  },
  {
   "cell_type": "code",
   "execution_count": 9,
   "id": "2c04ec26",
   "metadata": {},
   "outputs": [
    {
     "data": {
      "text/plain": [
       "'Samsung Galaxy A22 128 GB 6 GB Black'"
      ]
     },
     "execution_count": 9,
     "metadata": {},
     "output_type": "execute_result"
    }
   ],
   "source": [
    "result[0].find('p',{'class':'sp__name'}).get_text()"
   ]
  },
  {
   "cell_type": "markdown",
   "id": "9d1d841c",
   "metadata": {},
   "source": [
    "### Price"
   ]
  },
  {
   "cell_type": "code",
   "execution_count": 10,
   "id": "08fd4505",
   "metadata": {},
   "outputs": [
    {
     "data": {
      "text/plain": [
       "'₹18,499.00'"
      ]
     },
     "execution_count": 10,
     "metadata": {},
     "output_type": "execute_result"
    }
   ],
   "source": [
    "result[0].find('span',{'class':'sc-bxivhb dmBTBc'}).get_text()"
   ]
  },
  {
   "cell_type": "markdown",
   "id": "922464d8",
   "metadata": {},
   "source": [
    "### URL "
   ]
  },
  {
   "cell_type": "code",
   "execution_count": 11,
   "id": "468b1628",
   "metadata": {},
   "outputs": [],
   "source": [
    "# Combining url part 1 with url part 2 in order to get the absolute url\n",
    "\n",
    "Url_part_1 = \"https://www.reliancedigital.in/\""
   ]
  },
  {
   "cell_type": "code",
   "execution_count": 12,
   "id": "fa63c851",
   "metadata": {},
   "outputs": [],
   "source": [
    "Url_part_2 = []\n",
    "\n",
    "for item in result:\n",
    "    for link in item.find_all('a',{'attr-tag':'link'}):\n",
    "        Url_part_2.append(link.get('href'))\n",
    "                                   "
   ]
  },
  {
   "cell_type": "code",
   "execution_count": 13,
   "id": "0c59268d",
   "metadata": {},
   "outputs": [
    {
     "data": {
      "text/plain": [
       "['/samsung-galaxy-a22-128-gb-6-gb-black/p/491997058',\n",
       " '/samsung-a12-128-gb-4-gb-ram-black-mobile-phone/p/491959401',\n",
       " '/samsung-a12-64-gb-4-gb-ram-blue-mobile-phone/p/491959397',\n",
       " '/samsung-a12-64-gb-4-gb-ram-white-mobile-phone/p/491959399',\n",
       " '/samsung-a12-128-gb-6-gb-ram-blue-mobile-phone/p/491997050',\n",
       " '/samsung-a12-128-gb-6-gb-ram-black-mobile-phone/p/491997051',\n",
       " '/samsung-a12-128-gb-6-gb-ram-white-mobile-phone/p/491997052',\n",
       " '/samsung-a12-128-gb-4-gb-ram-white-mobile-phone/p/491959402',\n",
       " '/samsung-a12-128-gb-4-gb-ram-blue-mobile-phone/p/491959400',\n",
       " '/samsung-a12-64-gb-4-gb-ram-black-mobile-phone/p/491959398',\n",
       " '/samsung-galaxy-a22-128-gb-6-gb-mint/p/491997057',\n",
       " '/samsung-galaxy-a51-128-gb-6-gb-ram-prism-white-mobile-phone/p/491615781',\n",
       " '/samsung-galaxy-s10-mobile-phone-512-gb-8-gb-ram-prism-white/p/491550805',\n",
       " '/samsung-galaxy-s10-mobile-phone-512-gb-8-gb-ram-ceramic-black/p/491550809',\n",
       " '/samsung-galaxy-s10-mobile-phone-128-gb-8-gb-ram-prism-blue/p/491550802',\n",
       " '/samsung-galaxy-s10-mobile-phone-128-gb-8-gb-ram-prism-white/p/491550804',\n",
       " '/samsung-galaxy-s10-mobile-phone-128-gb-8-gb-ram-prism-black/p/491550803',\n",
       " '/samsung-galaxy-a10s-32-gb-2-gb-ram-black-mobile-phone/p/491584549',\n",
       " '/samsung-galaxy-a20s-64-gb-4-gb-ram-black-mobile-phone/p/491615029',\n",
       " '/samsung-s20-plus-128-gb-8-gb-ram-cosmic-black-mobile-phone/p/491666906',\n",
       " '/samsung-s20-plus-128-gb-8-gb-ram-cloud-blue-mobile-phone/p/491666904',\n",
       " '/samsung-galaxy-a51-128-gb-6-gb-ram-prism-blue-mobile-phone/p/491615779',\n",
       " '/samsung-a70s-128-gb-6-gb-ram-prism-crush-white-mobile-phone/p/491615032',\n",
       " '/samsung-a70s-128-gb-8-gb-ram-prism-crush-black-mobile-phone/p/491615033']"
      ]
     },
     "execution_count": 13,
     "metadata": {},
     "output_type": "execute_result"
    }
   ],
   "source": [
    "Url_part_2"
   ]
  },
  {
   "cell_type": "markdown",
   "id": "260fd27c",
   "metadata": {},
   "source": [
    "### Join Url1 & Url2"
   ]
  },
  {
   "cell_type": "code",
   "execution_count": 14,
   "id": "37f3e22f",
   "metadata": {},
   "outputs": [],
   "source": [
    "Homepage = []\n",
    "\n",
    "for link_2 in Url_part_2:\n",
    "    Homepage.append(urllib.parse.urljoin(Url_part_1, link_2))"
   ]
  },
  {
   "cell_type": "code",
   "execution_count": 15,
   "id": "44e58f56",
   "metadata": {},
   "outputs": [
    {
     "data": {
      "text/plain": [
       "['https://www.reliancedigital.in/samsung-galaxy-a22-128-gb-6-gb-black/p/491997058',\n",
       " 'https://www.reliancedigital.in/samsung-a12-128-gb-4-gb-ram-black-mobile-phone/p/491959401',\n",
       " 'https://www.reliancedigital.in/samsung-a12-64-gb-4-gb-ram-blue-mobile-phone/p/491959397',\n",
       " 'https://www.reliancedigital.in/samsung-a12-64-gb-4-gb-ram-white-mobile-phone/p/491959399',\n",
       " 'https://www.reliancedigital.in/samsung-a12-128-gb-6-gb-ram-blue-mobile-phone/p/491997050',\n",
       " 'https://www.reliancedigital.in/samsung-a12-128-gb-6-gb-ram-black-mobile-phone/p/491997051',\n",
       " 'https://www.reliancedigital.in/samsung-a12-128-gb-6-gb-ram-white-mobile-phone/p/491997052',\n",
       " 'https://www.reliancedigital.in/samsung-a12-128-gb-4-gb-ram-white-mobile-phone/p/491959402',\n",
       " 'https://www.reliancedigital.in/samsung-a12-128-gb-4-gb-ram-blue-mobile-phone/p/491959400',\n",
       " 'https://www.reliancedigital.in/samsung-a12-64-gb-4-gb-ram-black-mobile-phone/p/491959398',\n",
       " 'https://www.reliancedigital.in/samsung-galaxy-a22-128-gb-6-gb-mint/p/491997057',\n",
       " 'https://www.reliancedigital.in/samsung-galaxy-a51-128-gb-6-gb-ram-prism-white-mobile-phone/p/491615781',\n",
       " 'https://www.reliancedigital.in/samsung-galaxy-s10-mobile-phone-512-gb-8-gb-ram-prism-white/p/491550805',\n",
       " 'https://www.reliancedigital.in/samsung-galaxy-s10-mobile-phone-512-gb-8-gb-ram-ceramic-black/p/491550809',\n",
       " 'https://www.reliancedigital.in/samsung-galaxy-s10-mobile-phone-128-gb-8-gb-ram-prism-blue/p/491550802',\n",
       " 'https://www.reliancedigital.in/samsung-galaxy-s10-mobile-phone-128-gb-8-gb-ram-prism-white/p/491550804',\n",
       " 'https://www.reliancedigital.in/samsung-galaxy-s10-mobile-phone-128-gb-8-gb-ram-prism-black/p/491550803',\n",
       " 'https://www.reliancedigital.in/samsung-galaxy-a10s-32-gb-2-gb-ram-black-mobile-phone/p/491584549',\n",
       " 'https://www.reliancedigital.in/samsung-galaxy-a20s-64-gb-4-gb-ram-black-mobile-phone/p/491615029',\n",
       " 'https://www.reliancedigital.in/samsung-s20-plus-128-gb-8-gb-ram-cosmic-black-mobile-phone/p/491666906',\n",
       " 'https://www.reliancedigital.in/samsung-s20-plus-128-gb-8-gb-ram-cloud-blue-mobile-phone/p/491666904',\n",
       " 'https://www.reliancedigital.in/samsung-galaxy-a51-128-gb-6-gb-ram-prism-blue-mobile-phone/p/491615779',\n",
       " 'https://www.reliancedigital.in/samsung-a70s-128-gb-6-gb-ram-prism-crush-white-mobile-phone/p/491615032',\n",
       " 'https://www.reliancedigital.in/samsung-a70s-128-gb-8-gb-ram-prism-crush-black-mobile-phone/p/491615033']"
      ]
     },
     "execution_count": 15,
     "metadata": {},
     "output_type": "execute_result"
    }
   ],
   "source": [
    "Homepage"
   ]
  },
  {
   "cell_type": "markdown",
   "id": "45b7ad1f",
   "metadata": {},
   "source": [
    "### Append all result in List Comprenhension"
   ]
  },
  {
   "cell_type": "code",
   "execution_count": 16,
   "id": "6feeda13",
   "metadata": {},
   "outputs": [],
   "source": [
    "Mobile = [result.find('p',{'class':'sp__name'}).get_text() for result in result]\n",
    "Price = [result.find('span',{'class':'sc-bxivhb dmBTBc'}).get_text() for result in result]"
   ]
  },
  {
   "cell_type": "code",
   "execution_count": 17,
   "id": "f9b84a3d",
   "metadata": {},
   "outputs": [
    {
     "data": {
      "text/plain": [
       "24"
      ]
     },
     "execution_count": 17,
     "metadata": {},
     "output_type": "execute_result"
    }
   ],
   "source": [
    "len(Price)"
   ]
  },
  {
   "cell_type": "markdown",
   "id": "187ac956",
   "metadata": {},
   "source": [
    "### Create padas dataframe"
   ]
  },
  {
   "cell_type": "code",
   "execution_count": 18,
   "id": "fc3840f2",
   "metadata": {},
   "outputs": [
    {
     "data": {
      "text/html": [
       "<div>\n",
       "<style scoped>\n",
       "    .dataframe tbody tr th:only-of-type {\n",
       "        vertical-align: middle;\n",
       "    }\n",
       "\n",
       "    .dataframe tbody tr th {\n",
       "        vertical-align: top;\n",
       "    }\n",
       "\n",
       "    .dataframe thead th {\n",
       "        text-align: right;\n",
       "    }\n",
       "</style>\n",
       "<table border=\"1\" class=\"dataframe\">\n",
       "  <thead>\n",
       "    <tr style=\"text-align: right;\">\n",
       "      <th></th>\n",
       "      <th>Mobile</th>\n",
       "      <th>Price</th>\n",
       "    </tr>\n",
       "  </thead>\n",
       "  <tbody>\n",
       "    <tr>\n",
       "      <th>0</th>\n",
       "      <td>Samsung Galaxy A22 128 GB 6 GB Black</td>\n",
       "      <td>₹18,499.00</td>\n",
       "    </tr>\n",
       "    <tr>\n",
       "      <th>1</th>\n",
       "      <td>Samsung A12 128 GB, 4 GB RAM, Black, Mobile Phone</td>\n",
       "      <td>₹13,999.00</td>\n",
       "    </tr>\n",
       "    <tr>\n",
       "      <th>2</th>\n",
       "      <td>Samsung A12 64 GB, 4 GB RAM, Blue, Mobile Phone</td>\n",
       "      <td>₹12,999.00</td>\n",
       "    </tr>\n",
       "    <tr>\n",
       "      <th>3</th>\n",
       "      <td>Samsung A12 64 GB, 4 GB RAM, White, Mobile Phone</td>\n",
       "      <td>₹12,999.00</td>\n",
       "    </tr>\n",
       "    <tr>\n",
       "      <th>4</th>\n",
       "      <td>Samsung A12 128 GB, 6 GB RAM, Blue, Mobile Phone</td>\n",
       "      <td>₹15,499.00</td>\n",
       "    </tr>\n",
       "    <tr>\n",
       "      <th>5</th>\n",
       "      <td>Samsung A12 128 GB, 6 GB RAM, Black, Mobile Phone</td>\n",
       "      <td>₹15,499.00</td>\n",
       "    </tr>\n",
       "    <tr>\n",
       "      <th>6</th>\n",
       "      <td>Samsung A12 128 GB, 6 GB RAM, White, Mobile Phone</td>\n",
       "      <td>₹15,499.00</td>\n",
       "    </tr>\n",
       "    <tr>\n",
       "      <th>7</th>\n",
       "      <td>Samsung A12 128 GB, 4 GB RAM, White, Mobile Phone</td>\n",
       "      <td>₹13,999.00</td>\n",
       "    </tr>\n",
       "    <tr>\n",
       "      <th>8</th>\n",
       "      <td>Samsung A12 128 GB, 4 GB RAM, Blue, Mobile Phone</td>\n",
       "      <td>₹13,999.00</td>\n",
       "    </tr>\n",
       "    <tr>\n",
       "      <th>9</th>\n",
       "      <td>Samsung A12 64 GB, 4 GB RAM, Black, Mobile Phone</td>\n",
       "      <td>₹12,999.00</td>\n",
       "    </tr>\n",
       "    <tr>\n",
       "      <th>10</th>\n",
       "      <td>Samsung Galaxy A22 128 GB 6 GB Mint</td>\n",
       "      <td>₹18,499.00</td>\n",
       "    </tr>\n",
       "    <tr>\n",
       "      <th>11</th>\n",
       "      <td>Samsung Galaxy A51, 128 GB, 6 GB RAM, Prism Wh...</td>\n",
       "      <td>₹20,999.00</td>\n",
       "    </tr>\n",
       "    <tr>\n",
       "      <th>12</th>\n",
       "      <td>Samsung Galaxy S10 Mobile Phone 512 GB, 8 GB R...</td>\n",
       "      <td>₹71,400.00</td>\n",
       "    </tr>\n",
       "    <tr>\n",
       "      <th>13</th>\n",
       "      <td>Samsung Galaxy S10+ Mobile Phone 512 GB, 8 GB ...</td>\n",
       "      <td>₹78,800.00</td>\n",
       "    </tr>\n",
       "    <tr>\n",
       "      <th>14</th>\n",
       "      <td>Samsung Galaxy S10 Mobile Phone 128 GB, 8 GB R...</td>\n",
       "      <td>₹58,800.00</td>\n",
       "    </tr>\n",
       "    <tr>\n",
       "      <th>15</th>\n",
       "      <td>Samsung Galaxy S10 Mobile Phone 128 GB, 8 GB R...</td>\n",
       "      <td>₹58,800.00</td>\n",
       "    </tr>\n",
       "    <tr>\n",
       "      <th>16</th>\n",
       "      <td>Samsung Galaxy S10 Mobile Phone 128 GB, 8 GB R...</td>\n",
       "      <td>₹58,800.00</td>\n",
       "    </tr>\n",
       "    <tr>\n",
       "      <th>17</th>\n",
       "      <td>Samsung Galaxy A10s 32 GB, 2 GB RAM, Black, Mo...</td>\n",
       "      <td>₹9,840.00</td>\n",
       "    </tr>\n",
       "    <tr>\n",
       "      <th>18</th>\n",
       "      <td>Samsung Galaxy A20s 64 GB, 4 GB RAM, Black, Mo...</td>\n",
       "      <td>₹13,695.00</td>\n",
       "    </tr>\n",
       "    <tr>\n",
       "      <th>19</th>\n",
       "      <td>Samsung S20 Plus 128 GB, 8 GB RAM, Cosmic Blac...</td>\n",
       "      <td>₹69,999.00</td>\n",
       "    </tr>\n",
       "    <tr>\n",
       "      <th>20</th>\n",
       "      <td>Samsung S20 Plus 128 GB, 8 GB RAM, Cloud Blue,...</td>\n",
       "      <td>₹69,999.00</td>\n",
       "    </tr>\n",
       "    <tr>\n",
       "      <th>21</th>\n",
       "      <td>Samsung Galaxy A51, 128 GB, 6 GB RAM, Prism Bl...</td>\n",
       "      <td>₹20,999.00</td>\n",
       "    </tr>\n",
       "    <tr>\n",
       "      <th>22</th>\n",
       "      <td>Samsung A70s 128 GB, 6 GB RAM, Prism Crush Whi...</td>\n",
       "      <td>₹28,400.00</td>\n",
       "    </tr>\n",
       "    <tr>\n",
       "      <th>23</th>\n",
       "      <td>Samsung A70s 128 GB, 8 GB RAM, Prism Crush Bla...</td>\n",
       "      <td>₹30,500.00</td>\n",
       "    </tr>\n",
       "  </tbody>\n",
       "</table>\n",
       "</div>"
      ],
      "text/plain": [
       "                                               Mobile       Price\n",
       "0                Samsung Galaxy A22 128 GB 6 GB Black  ₹18,499.00\n",
       "1   Samsung A12 128 GB, 4 GB RAM, Black, Mobile Phone  ₹13,999.00\n",
       "2     Samsung A12 64 GB, 4 GB RAM, Blue, Mobile Phone  ₹12,999.00\n",
       "3    Samsung A12 64 GB, 4 GB RAM, White, Mobile Phone  ₹12,999.00\n",
       "4    Samsung A12 128 GB, 6 GB RAM, Blue, Mobile Phone  ₹15,499.00\n",
       "5   Samsung A12 128 GB, 6 GB RAM, Black, Mobile Phone  ₹15,499.00\n",
       "6   Samsung A12 128 GB, 6 GB RAM, White, Mobile Phone  ₹15,499.00\n",
       "7   Samsung A12 128 GB, 4 GB RAM, White, Mobile Phone  ₹13,999.00\n",
       "8    Samsung A12 128 GB, 4 GB RAM, Blue, Mobile Phone  ₹13,999.00\n",
       "9    Samsung A12 64 GB, 4 GB RAM, Black, Mobile Phone  ₹12,999.00\n",
       "10                Samsung Galaxy A22 128 GB 6 GB Mint  ₹18,499.00\n",
       "11  Samsung Galaxy A51, 128 GB, 6 GB RAM, Prism Wh...  ₹20,999.00\n",
       "12  Samsung Galaxy S10 Mobile Phone 512 GB, 8 GB R...  ₹71,400.00\n",
       "13  Samsung Galaxy S10+ Mobile Phone 512 GB, 8 GB ...  ₹78,800.00\n",
       "14  Samsung Galaxy S10 Mobile Phone 128 GB, 8 GB R...  ₹58,800.00\n",
       "15  Samsung Galaxy S10 Mobile Phone 128 GB, 8 GB R...  ₹58,800.00\n",
       "16  Samsung Galaxy S10 Mobile Phone 128 GB, 8 GB R...  ₹58,800.00\n",
       "17  Samsung Galaxy A10s 32 GB, 2 GB RAM, Black, Mo...   ₹9,840.00\n",
       "18  Samsung Galaxy A20s 64 GB, 4 GB RAM, Black, Mo...  ₹13,695.00\n",
       "19  Samsung S20 Plus 128 GB, 8 GB RAM, Cosmic Blac...  ₹69,999.00\n",
       "20  Samsung S20 Plus 128 GB, 8 GB RAM, Cloud Blue,...  ₹69,999.00\n",
       "21  Samsung Galaxy A51, 128 GB, 6 GB RAM, Prism Bl...  ₹20,999.00\n",
       "22  Samsung A70s 128 GB, 6 GB RAM, Prism Crush Whi...  ₹28,400.00\n",
       "23  Samsung A70s 128 GB, 8 GB RAM, Prism Crush Bla...  ₹30,500.00"
      ]
     },
     "execution_count": 18,
     "metadata": {},
     "output_type": "execute_result"
    }
   ],
   "source": [
    "df = pd.DataFrame({'Mobile':Mobile,'Price':Price,})\n",
    "df"
   ]
  },
  {
   "cell_type": "markdown",
   "id": "bf379242",
   "metadata": {},
   "source": [
    "### putting all Together"
   ]
  },
  {
   "cell_type": "code",
   "execution_count": 19,
   "id": "c023e758",
   "metadata": {},
   "outputs": [],
   "source": [
    "#creating empty datafrme\n",
    "df = pd.DataFrame(columns=['Mobile','Price','Homepage'])\n",
    "\n",
    "for i in range(1,10):\n",
    "\n",
    "    #website request\n",
    "    Website = 'https://www.reliancedigital.in/smart-phones/c/S101711?searchQuery=Samsung&page' + str(i)\n",
    "    \n",
    "    response = requests.get(Website)\n",
    "    \n",
    "    # create soup object\n",
    "    soup = BeautifulSoup(response.content, 'html.parser')\n",
    "    \n",
    "    #results item\n",
    "    result = soup.find_all('li',{'class': 'grid pl__container__sp blk__lg__3 blk__md__4 blk__sm__6 blk__xs__6'})\n",
    "\n",
    "    #url part 1\n",
    "    Url_part_1 = \"https://www.reliancedigital.in/\"\n",
    "    \n",
    "    #url part 2\n",
    "    Url_part_2 = []\n",
    "    \n",
    "    for item in result:\n",
    "        for link in item.find_all('a',{'attr-tag':'link'}):\n",
    "            Url_part_2.append(link.get('href'))\n",
    "    #Combining url part 1 with url part 2 in order to get the absolute url\n",
    "    Homepage = []\n",
    "\n",
    "    for link_2 in Url_part_2:\n",
    "        Homepage.append(urllib.parse.urljoin(Url_part_1, link_2))\n",
    "    \n",
    "    Mobile = [result.find('p',{'class':'sp__name'}).get_text() for result in result]\n",
    "    Price = [result.find('span',{'class':'sc-bxivhb dmBTBc'}).get_text() for result in result]\n",
    "    \n",
    "    for k in range(len(Mobile)):\n",
    "        df = df.append({'Mobile':Mobile[k],'Price':Price[k],'Homepage':Homepage[k]},ignore_index=True)"
   ]
  },
  {
   "cell_type": "code",
   "execution_count": 20,
   "id": "1a688fa2",
   "metadata": {},
   "outputs": [
    {
     "data": {
      "text/html": [
       "<div>\n",
       "<style scoped>\n",
       "    .dataframe tbody tr th:only-of-type {\n",
       "        vertical-align: middle;\n",
       "    }\n",
       "\n",
       "    .dataframe tbody tr th {\n",
       "        vertical-align: top;\n",
       "    }\n",
       "\n",
       "    .dataframe thead th {\n",
       "        text-align: right;\n",
       "    }\n",
       "</style>\n",
       "<table border=\"1\" class=\"dataframe\">\n",
       "  <thead>\n",
       "    <tr style=\"text-align: right;\">\n",
       "      <th></th>\n",
       "      <th>Mobile</th>\n",
       "      <th>Price</th>\n",
       "      <th>Homepage</th>\n",
       "    </tr>\n",
       "  </thead>\n",
       "  <tbody>\n",
       "    <tr>\n",
       "      <th>0</th>\n",
       "      <td>Samsung Galaxy A22 128 GB 6 GB Black</td>\n",
       "      <td>₹18,499.00</td>\n",
       "      <td>https://www.reliancedigital.in/samsung-galaxy-...</td>\n",
       "    </tr>\n",
       "    <tr>\n",
       "      <th>1</th>\n",
       "      <td>Samsung A12 128 GB, 4 GB RAM, Black, Mobile Phone</td>\n",
       "      <td>₹13,999.00</td>\n",
       "      <td>https://www.reliancedigital.in/samsung-a12-128...</td>\n",
       "    </tr>\n",
       "    <tr>\n",
       "      <th>2</th>\n",
       "      <td>Samsung A12 64 GB, 4 GB RAM, Blue, Mobile Phone</td>\n",
       "      <td>₹12,999.00</td>\n",
       "      <td>https://www.reliancedigital.in/samsung-a12-64-...</td>\n",
       "    </tr>\n",
       "    <tr>\n",
       "      <th>3</th>\n",
       "      <td>Samsung A12 64 GB, 4 GB RAM, White, Mobile Phone</td>\n",
       "      <td>₹12,999.00</td>\n",
       "      <td>https://www.reliancedigital.in/samsung-a12-64-...</td>\n",
       "    </tr>\n",
       "    <tr>\n",
       "      <th>4</th>\n",
       "      <td>Samsung A12 128 GB, 6 GB RAM, Blue, Mobile Phone</td>\n",
       "      <td>₹15,499.00</td>\n",
       "      <td>https://www.reliancedigital.in/samsung-a12-128...</td>\n",
       "    </tr>\n",
       "    <tr>\n",
       "      <th>...</th>\n",
       "      <td>...</td>\n",
       "      <td>...</td>\n",
       "      <td>...</td>\n",
       "    </tr>\n",
       "    <tr>\n",
       "      <th>211</th>\n",
       "      <td>Samsung S20 Plus 128 GB, 8 GB RAM, Cosmic Blac...</td>\n",
       "      <td>₹69,999.00</td>\n",
       "      <td>https://www.reliancedigital.in/samsung-s20-plu...</td>\n",
       "    </tr>\n",
       "    <tr>\n",
       "      <th>212</th>\n",
       "      <td>Samsung S20 Plus 128 GB, 8 GB RAM, Cloud Blue,...</td>\n",
       "      <td>₹69,999.00</td>\n",
       "      <td>https://www.reliancedigital.in/samsung-s20-plu...</td>\n",
       "    </tr>\n",
       "    <tr>\n",
       "      <th>213</th>\n",
       "      <td>Samsung Galaxy A51, 128 GB, 6 GB RAM, Prism Bl...</td>\n",
       "      <td>₹20,999.00</td>\n",
       "      <td>https://www.reliancedigital.in/samsung-galaxy-...</td>\n",
       "    </tr>\n",
       "    <tr>\n",
       "      <th>214</th>\n",
       "      <td>Samsung A70s 128 GB, 6 GB RAM, Prism Crush Whi...</td>\n",
       "      <td>₹28,400.00</td>\n",
       "      <td>https://www.reliancedigital.in/samsung-a70s-12...</td>\n",
       "    </tr>\n",
       "    <tr>\n",
       "      <th>215</th>\n",
       "      <td>Samsung A70s 128 GB, 8 GB RAM, Prism Crush Bla...</td>\n",
       "      <td>₹30,500.00</td>\n",
       "      <td>https://www.reliancedigital.in/samsung-a70s-12...</td>\n",
       "    </tr>\n",
       "  </tbody>\n",
       "</table>\n",
       "<p>216 rows × 3 columns</p>\n",
       "</div>"
      ],
      "text/plain": [
       "                                                Mobile       Price  \\\n",
       "0                 Samsung Galaxy A22 128 GB 6 GB Black  ₹18,499.00   \n",
       "1    Samsung A12 128 GB, 4 GB RAM, Black, Mobile Phone  ₹13,999.00   \n",
       "2      Samsung A12 64 GB, 4 GB RAM, Blue, Mobile Phone  ₹12,999.00   \n",
       "3     Samsung A12 64 GB, 4 GB RAM, White, Mobile Phone  ₹12,999.00   \n",
       "4     Samsung A12 128 GB, 6 GB RAM, Blue, Mobile Phone  ₹15,499.00   \n",
       "..                                                 ...         ...   \n",
       "211  Samsung S20 Plus 128 GB, 8 GB RAM, Cosmic Blac...  ₹69,999.00   \n",
       "212  Samsung S20 Plus 128 GB, 8 GB RAM, Cloud Blue,...  ₹69,999.00   \n",
       "213  Samsung Galaxy A51, 128 GB, 6 GB RAM, Prism Bl...  ₹20,999.00   \n",
       "214  Samsung A70s 128 GB, 6 GB RAM, Prism Crush Whi...  ₹28,400.00   \n",
       "215  Samsung A70s 128 GB, 8 GB RAM, Prism Crush Bla...  ₹30,500.00   \n",
       "\n",
       "                                              Homepage  \n",
       "0    https://www.reliancedigital.in/samsung-galaxy-...  \n",
       "1    https://www.reliancedigital.in/samsung-a12-128...  \n",
       "2    https://www.reliancedigital.in/samsung-a12-64-...  \n",
       "3    https://www.reliancedigital.in/samsung-a12-64-...  \n",
       "4    https://www.reliancedigital.in/samsung-a12-128...  \n",
       "..                                                 ...  \n",
       "211  https://www.reliancedigital.in/samsung-s20-plu...  \n",
       "212  https://www.reliancedigital.in/samsung-s20-plu...  \n",
       "213  https://www.reliancedigital.in/samsung-galaxy-...  \n",
       "214  https://www.reliancedigital.in/samsung-a70s-12...  \n",
       "215  https://www.reliancedigital.in/samsung-a70s-12...  \n",
       "\n",
       "[216 rows x 3 columns]"
      ]
     },
     "execution_count": 20,
     "metadata": {},
     "output_type": "execute_result"
    }
   ],
   "source": [
    "df"
   ]
  },
  {
   "cell_type": "markdown",
   "id": "7f35fe1b",
   "metadata": {},
   "source": [
    "### Spliting Mobile "
   ]
  },
  {
   "cell_type": "code",
   "execution_count": 21,
   "id": "da8a7a31",
   "metadata": {},
   "outputs": [
    {
     "data": {
      "text/plain": [
       "0                 [Samsung Galaxy A22 128 GB 6 GB Black]\n",
       "1      [Samsung A12 128 GB,  4 GB RAM, Black, Mobile ...\n",
       "2      [Samsung A12 64 GB,  4 GB RAM, Blue, Mobile Ph...\n",
       "3      [Samsung A12 64 GB,  4 GB RAM, White, Mobile P...\n",
       "4      [Samsung A12 128 GB,  6 GB RAM, Blue, Mobile P...\n",
       "                             ...                        \n",
       "211    [Samsung S20 Plus 128 GB,  8 GB RAM, Cosmic Bl...\n",
       "212    [Samsung S20 Plus 128 GB,  8 GB RAM, Cloud Blu...\n",
       "213    [Samsung Galaxy A51,  128 GB, 6 GB RAM, Prism ...\n",
       "214    [Samsung A70s 128 GB,  6 GB RAM, Prism Crush W...\n",
       "215    [Samsung A70s 128 GB,  8 GB RAM, Prism Crush B...\n",
       "Name: Mobile, Length: 216, dtype: object"
      ]
     },
     "execution_count": 21,
     "metadata": {},
     "output_type": "execute_result"
    }
   ],
   "source": [
    "df[\"Mobile\"].str.split(',',n=1)"
   ]
  },
  {
   "cell_type": "code",
   "execution_count": 22,
   "id": "4e66b9c6",
   "metadata": {},
   "outputs": [
    {
     "data": {
      "text/html": [
       "<div>\n",
       "<style scoped>\n",
       "    .dataframe tbody tr th:only-of-type {\n",
       "        vertical-align: middle;\n",
       "    }\n",
       "\n",
       "    .dataframe tbody tr th {\n",
       "        vertical-align: top;\n",
       "    }\n",
       "\n",
       "    .dataframe thead th {\n",
       "        text-align: right;\n",
       "    }\n",
       "</style>\n",
       "<table border=\"1\" class=\"dataframe\">\n",
       "  <thead>\n",
       "    <tr style=\"text-align: right;\">\n",
       "      <th></th>\n",
       "      <th>Mobile</th>\n",
       "      <th>Price</th>\n",
       "      <th>Homepage</th>\n",
       "      <th>Name</th>\n",
       "      <th>RAM</th>\n",
       "      <th>Color</th>\n",
       "      <th>Type</th>\n",
       "    </tr>\n",
       "  </thead>\n",
       "  <tbody>\n",
       "    <tr>\n",
       "      <th>0</th>\n",
       "      <td>Samsung Galaxy A22 128 GB 6 GB Black</td>\n",
       "      <td>₹18,499.00</td>\n",
       "      <td>https://www.reliancedigital.in/samsung-galaxy-...</td>\n",
       "      <td>Samsung Galaxy A22 128 GB 6 GB Black</td>\n",
       "      <td>None</td>\n",
       "      <td>None</td>\n",
       "      <td>None</td>\n",
       "    </tr>\n",
       "    <tr>\n",
       "      <th>1</th>\n",
       "      <td>Samsung A12 128 GB, 4 GB RAM, Black, Mobile Phone</td>\n",
       "      <td>₹13,999.00</td>\n",
       "      <td>https://www.reliancedigital.in/samsung-a12-128...</td>\n",
       "      <td>Samsung A12 128 GB</td>\n",
       "      <td>4 GB RAM</td>\n",
       "      <td>Black</td>\n",
       "      <td>Mobile Phone</td>\n",
       "    </tr>\n",
       "    <tr>\n",
       "      <th>2</th>\n",
       "      <td>Samsung A12 64 GB, 4 GB RAM, Blue, Mobile Phone</td>\n",
       "      <td>₹12,999.00</td>\n",
       "      <td>https://www.reliancedigital.in/samsung-a12-64-...</td>\n",
       "      <td>Samsung A12 64 GB</td>\n",
       "      <td>4 GB RAM</td>\n",
       "      <td>Blue</td>\n",
       "      <td>Mobile Phone</td>\n",
       "    </tr>\n",
       "    <tr>\n",
       "      <th>3</th>\n",
       "      <td>Samsung A12 64 GB, 4 GB RAM, White, Mobile Phone</td>\n",
       "      <td>₹12,999.00</td>\n",
       "      <td>https://www.reliancedigital.in/samsung-a12-64-...</td>\n",
       "      <td>Samsung A12 64 GB</td>\n",
       "      <td>4 GB RAM</td>\n",
       "      <td>White</td>\n",
       "      <td>Mobile Phone</td>\n",
       "    </tr>\n",
       "    <tr>\n",
       "      <th>4</th>\n",
       "      <td>Samsung A12 128 GB, 6 GB RAM, Blue, Mobile Phone</td>\n",
       "      <td>₹15,499.00</td>\n",
       "      <td>https://www.reliancedigital.in/samsung-a12-128...</td>\n",
       "      <td>Samsung A12 128 GB</td>\n",
       "      <td>6 GB RAM</td>\n",
       "      <td>Blue</td>\n",
       "      <td>Mobile Phone</td>\n",
       "    </tr>\n",
       "    <tr>\n",
       "      <th>...</th>\n",
       "      <td>...</td>\n",
       "      <td>...</td>\n",
       "      <td>...</td>\n",
       "      <td>...</td>\n",
       "      <td>...</td>\n",
       "      <td>...</td>\n",
       "      <td>...</td>\n",
       "    </tr>\n",
       "    <tr>\n",
       "      <th>211</th>\n",
       "      <td>Samsung S20 Plus 128 GB, 8 GB RAM, Cosmic Blac...</td>\n",
       "      <td>₹69,999.00</td>\n",
       "      <td>https://www.reliancedigital.in/samsung-s20-plu...</td>\n",
       "      <td>Samsung S20 Plus 128 GB</td>\n",
       "      <td>8 GB RAM</td>\n",
       "      <td>Cosmic Black</td>\n",
       "      <td>Mobile Phone</td>\n",
       "    </tr>\n",
       "    <tr>\n",
       "      <th>212</th>\n",
       "      <td>Samsung S20 Plus 128 GB, 8 GB RAM, Cloud Blue,...</td>\n",
       "      <td>₹69,999.00</td>\n",
       "      <td>https://www.reliancedigital.in/samsung-s20-plu...</td>\n",
       "      <td>Samsung S20 Plus 128 GB</td>\n",
       "      <td>8 GB RAM</td>\n",
       "      <td>Cloud Blue</td>\n",
       "      <td>Mobile Phone</td>\n",
       "    </tr>\n",
       "    <tr>\n",
       "      <th>213</th>\n",
       "      <td>Samsung Galaxy A51, 128 GB, 6 GB RAM, Prism Bl...</td>\n",
       "      <td>₹20,999.00</td>\n",
       "      <td>https://www.reliancedigital.in/samsung-galaxy-...</td>\n",
       "      <td>Samsung Galaxy A51</td>\n",
       "      <td>128 GB</td>\n",
       "      <td>6 GB RAM</td>\n",
       "      <td>Prism Blue, Mobile Phone</td>\n",
       "    </tr>\n",
       "    <tr>\n",
       "      <th>214</th>\n",
       "      <td>Samsung A70s 128 GB, 6 GB RAM, Prism Crush Whi...</td>\n",
       "      <td>₹28,400.00</td>\n",
       "      <td>https://www.reliancedigital.in/samsung-a70s-12...</td>\n",
       "      <td>Samsung A70s 128 GB</td>\n",
       "      <td>6 GB RAM</td>\n",
       "      <td>Prism Crush White</td>\n",
       "      <td>Mobile Phone</td>\n",
       "    </tr>\n",
       "    <tr>\n",
       "      <th>215</th>\n",
       "      <td>Samsung A70s 128 GB, 8 GB RAM, Prism Crush Bla...</td>\n",
       "      <td>₹30,500.00</td>\n",
       "      <td>https://www.reliancedigital.in/samsung-a70s-12...</td>\n",
       "      <td>Samsung A70s 128 GB</td>\n",
       "      <td>8 GB RAM</td>\n",
       "      <td>Prism Crush Black</td>\n",
       "      <td>Mobile Phone</td>\n",
       "    </tr>\n",
       "  </tbody>\n",
       "</table>\n",
       "<p>216 rows × 7 columns</p>\n",
       "</div>"
      ],
      "text/plain": [
       "                                                Mobile       Price  \\\n",
       "0                 Samsung Galaxy A22 128 GB 6 GB Black  ₹18,499.00   \n",
       "1    Samsung A12 128 GB, 4 GB RAM, Black, Mobile Phone  ₹13,999.00   \n",
       "2      Samsung A12 64 GB, 4 GB RAM, Blue, Mobile Phone  ₹12,999.00   \n",
       "3     Samsung A12 64 GB, 4 GB RAM, White, Mobile Phone  ₹12,999.00   \n",
       "4     Samsung A12 128 GB, 6 GB RAM, Blue, Mobile Phone  ₹15,499.00   \n",
       "..                                                 ...         ...   \n",
       "211  Samsung S20 Plus 128 GB, 8 GB RAM, Cosmic Blac...  ₹69,999.00   \n",
       "212  Samsung S20 Plus 128 GB, 8 GB RAM, Cloud Blue,...  ₹69,999.00   \n",
       "213  Samsung Galaxy A51, 128 GB, 6 GB RAM, Prism Bl...  ₹20,999.00   \n",
       "214  Samsung A70s 128 GB, 6 GB RAM, Prism Crush Whi...  ₹28,400.00   \n",
       "215  Samsung A70s 128 GB, 8 GB RAM, Prism Crush Bla...  ₹30,500.00   \n",
       "\n",
       "                                              Homepage  \\\n",
       "0    https://www.reliancedigital.in/samsung-galaxy-...   \n",
       "1    https://www.reliancedigital.in/samsung-a12-128...   \n",
       "2    https://www.reliancedigital.in/samsung-a12-64-...   \n",
       "3    https://www.reliancedigital.in/samsung-a12-64-...   \n",
       "4    https://www.reliancedigital.in/samsung-a12-128...   \n",
       "..                                                 ...   \n",
       "211  https://www.reliancedigital.in/samsung-s20-plu...   \n",
       "212  https://www.reliancedigital.in/samsung-s20-plu...   \n",
       "213  https://www.reliancedigital.in/samsung-galaxy-...   \n",
       "214  https://www.reliancedigital.in/samsung-a70s-12...   \n",
       "215  https://www.reliancedigital.in/samsung-a70s-12...   \n",
       "\n",
       "                                     Name        RAM               Color  \\\n",
       "0    Samsung Galaxy A22 128 GB 6 GB Black       None                None   \n",
       "1                      Samsung A12 128 GB   4 GB RAM               Black   \n",
       "2                       Samsung A12 64 GB   4 GB RAM                Blue   \n",
       "3                       Samsung A12 64 GB   4 GB RAM               White   \n",
       "4                      Samsung A12 128 GB   6 GB RAM                Blue   \n",
       "..                                    ...        ...                 ...   \n",
       "211               Samsung S20 Plus 128 GB   8 GB RAM        Cosmic Black   \n",
       "212               Samsung S20 Plus 128 GB   8 GB RAM          Cloud Blue   \n",
       "213                    Samsung Galaxy A51     128 GB            6 GB RAM   \n",
       "214                   Samsung A70s 128 GB   6 GB RAM   Prism Crush White   \n",
       "215                   Samsung A70s 128 GB   8 GB RAM   Prism Crush Black   \n",
       "\n",
       "                          Type  \n",
       "0                         None  \n",
       "1                 Mobile Phone  \n",
       "2                 Mobile Phone  \n",
       "3                 Mobile Phone  \n",
       "4                 Mobile Phone  \n",
       "..                         ...  \n",
       "211               Mobile Phone  \n",
       "212               Mobile Phone  \n",
       "213   Prism Blue, Mobile Phone  \n",
       "214               Mobile Phone  \n",
       "215               Mobile Phone  \n",
       "\n",
       "[216 rows x 7 columns]"
      ]
     },
     "execution_count": 22,
     "metadata": {},
     "output_type": "execute_result"
    }
   ],
   "source": [
    "df[['Name','RAM','Color', 'Type']]=df['Mobile'].str.split(',',n=3,expand=True)\n",
    "df"
   ]
  },
  {
   "cell_type": "code",
   "execution_count": 23,
   "id": "ddaac395",
   "metadata": {},
   "outputs": [
    {
     "data": {
      "text/html": [
       "<div>\n",
       "<style scoped>\n",
       "    .dataframe tbody tr th:only-of-type {\n",
       "        vertical-align: middle;\n",
       "    }\n",
       "\n",
       "    .dataframe tbody tr th {\n",
       "        vertical-align: top;\n",
       "    }\n",
       "\n",
       "    .dataframe thead th {\n",
       "        text-align: right;\n",
       "    }\n",
       "</style>\n",
       "<table border=\"1\" class=\"dataframe\">\n",
       "  <thead>\n",
       "    <tr style=\"text-align: right;\">\n",
       "      <th></th>\n",
       "      <th>Mobile</th>\n",
       "      <th>Price</th>\n",
       "      <th>Homepage</th>\n",
       "      <th>Name</th>\n",
       "      <th>RAM</th>\n",
       "      <th>Color</th>\n",
       "      <th>Type</th>\n",
       "    </tr>\n",
       "  </thead>\n",
       "  <tbody>\n",
       "    <tr>\n",
       "      <th>0</th>\n",
       "      <td>Samsung Galaxy A22 128 GB 6 GB Black</td>\n",
       "      <td>₹18,499.00</td>\n",
       "      <td>https://www.reliancedigital.in/samsung-galaxy-...</td>\n",
       "      <td>Samsung Galaxy A22 128 GB 6 GB Black</td>\n",
       "      <td>None</td>\n",
       "      <td>None</td>\n",
       "      <td>None</td>\n",
       "    </tr>\n",
       "    <tr>\n",
       "      <th>1</th>\n",
       "      <td>Samsung A12 128 GB, 4 GB RAM, Black, Mobile Phone</td>\n",
       "      <td>₹13,999.00</td>\n",
       "      <td>https://www.reliancedigital.in/samsung-a12-128...</td>\n",
       "      <td>Samsung A12 128 GB</td>\n",
       "      <td>4 GB RAM</td>\n",
       "      <td>Black</td>\n",
       "      <td>Mobile Phone</td>\n",
       "    </tr>\n",
       "    <tr>\n",
       "      <th>2</th>\n",
       "      <td>Samsung A12 64 GB, 4 GB RAM, Blue, Mobile Phone</td>\n",
       "      <td>₹12,999.00</td>\n",
       "      <td>https://www.reliancedigital.in/samsung-a12-64-...</td>\n",
       "      <td>Samsung A12 64 GB</td>\n",
       "      <td>4 GB RAM</td>\n",
       "      <td>Blue</td>\n",
       "      <td>Mobile Phone</td>\n",
       "    </tr>\n",
       "    <tr>\n",
       "      <th>3</th>\n",
       "      <td>Samsung A12 64 GB, 4 GB RAM, White, Mobile Phone</td>\n",
       "      <td>₹12,999.00</td>\n",
       "      <td>https://www.reliancedigital.in/samsung-a12-64-...</td>\n",
       "      <td>Samsung A12 64 GB</td>\n",
       "      <td>4 GB RAM</td>\n",
       "      <td>White</td>\n",
       "      <td>Mobile Phone</td>\n",
       "    </tr>\n",
       "    <tr>\n",
       "      <th>4</th>\n",
       "      <td>Samsung A12 128 GB, 6 GB RAM, Blue, Mobile Phone</td>\n",
       "      <td>₹15,499.00</td>\n",
       "      <td>https://www.reliancedigital.in/samsung-a12-128...</td>\n",
       "      <td>Samsung A12 128 GB</td>\n",
       "      <td>6 GB RAM</td>\n",
       "      <td>Blue</td>\n",
       "      <td>Mobile Phone</td>\n",
       "    </tr>\n",
       "    <tr>\n",
       "      <th>...</th>\n",
       "      <td>...</td>\n",
       "      <td>...</td>\n",
       "      <td>...</td>\n",
       "      <td>...</td>\n",
       "      <td>...</td>\n",
       "      <td>...</td>\n",
       "      <td>...</td>\n",
       "    </tr>\n",
       "    <tr>\n",
       "      <th>211</th>\n",
       "      <td>Samsung S20 Plus 128 GB, 8 GB RAM, Cosmic Blac...</td>\n",
       "      <td>₹69,999.00</td>\n",
       "      <td>https://www.reliancedigital.in/samsung-s20-plu...</td>\n",
       "      <td>Samsung S20 Plus 128 GB</td>\n",
       "      <td>8 GB RAM</td>\n",
       "      <td>Cosmic Black</td>\n",
       "      <td>Mobile Phone</td>\n",
       "    </tr>\n",
       "    <tr>\n",
       "      <th>212</th>\n",
       "      <td>Samsung S20 Plus 128 GB, 8 GB RAM, Cloud Blue,...</td>\n",
       "      <td>₹69,999.00</td>\n",
       "      <td>https://www.reliancedigital.in/samsung-s20-plu...</td>\n",
       "      <td>Samsung S20 Plus 128 GB</td>\n",
       "      <td>8 GB RAM</td>\n",
       "      <td>Cloud Blue</td>\n",
       "      <td>Mobile Phone</td>\n",
       "    </tr>\n",
       "    <tr>\n",
       "      <th>213</th>\n",
       "      <td>Samsung Galaxy A51, 128 GB, 6 GB RAM, Prism Bl...</td>\n",
       "      <td>₹20,999.00</td>\n",
       "      <td>https://www.reliancedigital.in/samsung-galaxy-...</td>\n",
       "      <td>Samsung Galaxy A51</td>\n",
       "      <td>128 GB</td>\n",
       "      <td>6 GB RAM</td>\n",
       "      <td>Prism Blue, Mobile Phone</td>\n",
       "    </tr>\n",
       "    <tr>\n",
       "      <th>214</th>\n",
       "      <td>Samsung A70s 128 GB, 6 GB RAM, Prism Crush Whi...</td>\n",
       "      <td>₹28,400.00</td>\n",
       "      <td>https://www.reliancedigital.in/samsung-a70s-12...</td>\n",
       "      <td>Samsung A70s 128 GB</td>\n",
       "      <td>6 GB RAM</td>\n",
       "      <td>Prism Crush White</td>\n",
       "      <td>Mobile Phone</td>\n",
       "    </tr>\n",
       "    <tr>\n",
       "      <th>215</th>\n",
       "      <td>Samsung A70s 128 GB, 8 GB RAM, Prism Crush Bla...</td>\n",
       "      <td>₹30,500.00</td>\n",
       "      <td>https://www.reliancedigital.in/samsung-a70s-12...</td>\n",
       "      <td>Samsung A70s 128 GB</td>\n",
       "      <td>8 GB RAM</td>\n",
       "      <td>Prism Crush Black</td>\n",
       "      <td>Mobile Phone</td>\n",
       "    </tr>\n",
       "  </tbody>\n",
       "</table>\n",
       "<p>216 rows × 7 columns</p>\n",
       "</div>"
      ],
      "text/plain": [
       "                                                Mobile       Price  \\\n",
       "0                 Samsung Galaxy A22 128 GB 6 GB Black  ₹18,499.00   \n",
       "1    Samsung A12 128 GB, 4 GB RAM, Black, Mobile Phone  ₹13,999.00   \n",
       "2      Samsung A12 64 GB, 4 GB RAM, Blue, Mobile Phone  ₹12,999.00   \n",
       "3     Samsung A12 64 GB, 4 GB RAM, White, Mobile Phone  ₹12,999.00   \n",
       "4     Samsung A12 128 GB, 6 GB RAM, Blue, Mobile Phone  ₹15,499.00   \n",
       "..                                                 ...         ...   \n",
       "211  Samsung S20 Plus 128 GB, 8 GB RAM, Cosmic Blac...  ₹69,999.00   \n",
       "212  Samsung S20 Plus 128 GB, 8 GB RAM, Cloud Blue,...  ₹69,999.00   \n",
       "213  Samsung Galaxy A51, 128 GB, 6 GB RAM, Prism Bl...  ₹20,999.00   \n",
       "214  Samsung A70s 128 GB, 6 GB RAM, Prism Crush Whi...  ₹28,400.00   \n",
       "215  Samsung A70s 128 GB, 8 GB RAM, Prism Crush Bla...  ₹30,500.00   \n",
       "\n",
       "                                              Homepage  \\\n",
       "0    https://www.reliancedigital.in/samsung-galaxy-...   \n",
       "1    https://www.reliancedigital.in/samsung-a12-128...   \n",
       "2    https://www.reliancedigital.in/samsung-a12-64-...   \n",
       "3    https://www.reliancedigital.in/samsung-a12-64-...   \n",
       "4    https://www.reliancedigital.in/samsung-a12-128...   \n",
       "..                                                 ...   \n",
       "211  https://www.reliancedigital.in/samsung-s20-plu...   \n",
       "212  https://www.reliancedigital.in/samsung-s20-plu...   \n",
       "213  https://www.reliancedigital.in/samsung-galaxy-...   \n",
       "214  https://www.reliancedigital.in/samsung-a70s-12...   \n",
       "215  https://www.reliancedigital.in/samsung-a70s-12...   \n",
       "\n",
       "                                     Name        RAM               Color  \\\n",
       "0    Samsung Galaxy A22 128 GB 6 GB Black       None                None   \n",
       "1                      Samsung A12 128 GB   4 GB RAM               Black   \n",
       "2                       Samsung A12 64 GB   4 GB RAM                Blue   \n",
       "3                       Samsung A12 64 GB   4 GB RAM               White   \n",
       "4                      Samsung A12 128 GB   6 GB RAM                Blue   \n",
       "..                                    ...        ...                 ...   \n",
       "211               Samsung S20 Plus 128 GB   8 GB RAM        Cosmic Black   \n",
       "212               Samsung S20 Plus 128 GB   8 GB RAM          Cloud Blue   \n",
       "213                    Samsung Galaxy A51     128 GB            6 GB RAM   \n",
       "214                   Samsung A70s 128 GB   6 GB RAM   Prism Crush White   \n",
       "215                   Samsung A70s 128 GB   8 GB RAM   Prism Crush Black   \n",
       "\n",
       "                          Type  \n",
       "0                         None  \n",
       "1                 Mobile Phone  \n",
       "2                 Mobile Phone  \n",
       "3                 Mobile Phone  \n",
       "4                 Mobile Phone  \n",
       "..                         ...  \n",
       "211               Mobile Phone  \n",
       "212               Mobile Phone  \n",
       "213   Prism Blue, Mobile Phone  \n",
       "214               Mobile Phone  \n",
       "215               Mobile Phone  \n",
       "\n",
       "[216 rows x 7 columns]"
      ]
     },
     "execution_count": 23,
     "metadata": {},
     "output_type": "execute_result"
    }
   ],
   "source": [
    "df"
   ]
  },
  {
   "cell_type": "code",
   "execution_count": 24,
   "id": "851207c0",
   "metadata": {},
   "outputs": [],
   "source": [
    "df.to_excel('Reliance Digitl3.xlsx',index=False)"
   ]
  }
 ],
 "metadata": {
  "kernelspec": {
   "display_name": "Python 3 (ipykernel)",
   "language": "python",
   "name": "python3"
  },
  "language_info": {
   "codemirror_mode": {
    "name": "ipython",
    "version": 3
   },
   "file_extension": ".py",
   "mimetype": "text/x-python",
   "name": "python",
   "nbconvert_exporter": "python",
   "pygments_lexer": "ipython3",
   "version": "3.8.12"
  }
 },
 "nbformat": 4,
 "nbformat_minor": 5
}
